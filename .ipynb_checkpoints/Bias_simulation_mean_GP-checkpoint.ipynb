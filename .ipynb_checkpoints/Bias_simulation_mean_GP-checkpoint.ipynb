{
 "cells": [
  {
   "cell_type": "code",
   "execution_count": 2,
   "metadata": {},
   "outputs": [],
   "source": [
    "import numpy as np\n",
    "import pandas as pd\n",
    "import matplotlib.pyplot as plt\n",
    "import pickle\n",
    "import seaborn as sns"
   ]
  },
  {
   "cell_type": "code",
   "execution_count": 3,
   "metadata": {},
   "outputs": [],
   "source": [
    "def import_inputs(file): \n",
    "    filehandler = open(file, 'rb') \n",
    "    Tb_cv_gp = pickle.load(filehandler)\n",
    "    cv = np.array([Tb_cv_gp[i]['cv'] for i in range(0,len(Tb_cv_gp))])\n",
    "    mean_tbh = np.array([Tb_cv_gp[i]['mean_tbh'] for i in range(0,len(Tb_cv_gp))])\n",
    "    mean_tbv = np.array([Tb_cv_gp[i]['mean_tbv'] for i in range(0,len(Tb_cv_gp))])\n",
    "    \n",
    "    return cv, mean_tbh, mean_tbv\n"
   ]
  },
  {
   "cell_type": "code",
   "execution_count": 4,
   "metadata": {},
   "outputs": [],
   "source": [
    "# simu GP fit\n",
    "cv, sd42_tbh_cb, sd42_tbv_cb = import_inputs('results_tb_cv_sd42_CB.obj')\n",
    "cv, sd32_tbh_cb, sd32_tbv_cb = import_inputs('results_tb_cv_sd32_CB.obj')\n",
    "cv, sd41_tbh_tvc, sd41_tbv_tvc = import_inputs('results_tb_cv_sd41_TVC.obj')"
   ]
  },
  {
   "cell_type": "code",
   "execution_count": 5,
   "metadata": {},
   "outputs": [],
   "source": [
    "# simu mean value\n",
    "filehandler = open('Tbh_simu_mean.obj', 'rb') \n",
    "Tbh_simu_mean = pickle.load(filehandler)\n",
    "filehandler = open('Tbv_simu_mean.obj', 'rb') \n",
    "Tbv_simu_mean = pickle.load(filehandler)"
   ]
  },
  {
   "cell_type": "code",
   "execution_count": 6,
   "metadata": {},
   "outputs": [],
   "source": [
    "# Measured values by Sat\n",
    "filehandler = open('/home/julien/OneDrive/Doctorat/spatialVariability/tb_sat/Tbh_measured.obj', 'rb') \n",
    "Tbh_measure = pickle.load(filehandler)\n",
    "filehandler = open('/home/julien/OneDrive/Doctorat/spatialVariability/tb_sat/Tbv_measured.obj', 'rb') \n",
    "Tbv_measure = pickle.load(filehandler)"
   ]
  },
  {
   "cell_type": "code",
   "execution_count": 7,
   "metadata": {},
   "outputs": [],
   "source": [
    "name = [keys for keys in Tbh_measure.keys()]\n",
    "tbh_simu = np.array([v for v in Tbh_simu_mean.values()])\n",
    "tbv_simu = np.array([v for v in Tbv_simu_mean.values()])\n",
    "tbh_mea = np.array([v for v in Tbh_measure.values()])\n",
    "tbv_mea = np.array([v for v in Tbv_measure.values()])"
   ]
  },
  {
   "cell_type": "code",
   "execution_count": 8,
   "metadata": {},
   "outputs": [
    {
     "name": "stdout",
     "output_type": "stream",
     "text": [
      "H pol\n",
      " bias for site cb_19 with bias in K 28.17495467175334\n",
      " bias for site cb_18 with bias in K 7.969854338470469\n",
      " bias for site cb_17 with bias in K 19.954431761098817\n",
      " bias for site cb_16 with bias in K 16.897130887689173\n",
      " bias for site cb_15 with bias in K 24.730879760694137\n",
      " bias for site tvc_19 with bias in K 6.906297171917572\n",
      " bias for site tvc_18 with bias in K 5.121235193980425\n",
      "V pol\n",
      " bias for site cb_19 with bias in K 25.248174186894033\n",
      " bias for site cb_18 with bias in K 5.38557707747259\n",
      " bias for site cb_17 with bias in K 18.8597988924397\n",
      " bias for site cb_16 with bias in K 23.342821748552836\n",
      " bias for site cb_15 with bias in K 29.0466458441922\n",
      " bias for site tvc_19 with bias in K 10.265147972317038\n",
      " bias for site tvc_18 with bias in K 6.8152951136494835\n"
     ]
    }
   ],
   "source": [
    "def print_bias(measure, simu):\n",
    "    for i in range(0, len(name)):\n",
    "        bias = measure[i] - simu[i]\n",
    "        print(f\" bias for site {name[i]} with bias in K {bias}\")\n",
    "\n",
    "#print bias with mean simu for all year\n",
    "print('H pol')\n",
    "print_bias(tbh_mea, tbh_simu)\n",
    "print('V pol')\n",
    "print_bias(tbv_mea, tbv_simu)"
   ]
  },
  {
   "cell_type": "code",
   "execution_count": 9,
   "metadata": {},
   "outputs": [
    {
     "data": {
      "text/plain": [
       "array([0.1       , 0.12307692, 0.14615385, 0.16923077, 0.19230769,\n",
       "       0.21538462, 0.23846154, 0.26153846, 0.28461538, 0.30769231,\n",
       "       0.33076923, 0.35384615, 0.37692308, 0.4       , 0.42307692,\n",
       "       0.44615385, 0.46923077, 0.49230769, 0.51538462, 0.53846154,\n",
       "       0.56153846, 0.58461538, 0.60769231, 0.63076923, 0.65384615,\n",
       "       0.67692308, 0.7       , 0.72307692, 0.74615385, 0.76923077,\n",
       "       0.79230769, 0.81538462, 0.83846154, 0.86153846, 0.88461538,\n",
       "       0.90769231, 0.93076923, 0.95384615, 0.97692308, 1.        ])"
      ]
     },
     "execution_count": 9,
     "metadata": {},
     "output_type": "execute_result"
    }
   ],
   "source": [
    "cv"
   ]
  },
  {
   "cell_type": "code",
   "execution_count": 10,
   "metadata": {},
   "outputs": [
    {
     "name": "stdout",
     "output_type": "stream",
     "text": [
      "H pol\n",
      "cb_19 18.621158765619896\n",
      "cb_18 -3.662105853624354\n",
      "cb_17 10.400635854965373\n",
      "cb_16 7.182001084227977\n",
      "cb_15 10.042886674312996\n",
      "tvc_19 -4.444548782927001\n",
      "tvc_18 -4.861534198047991\n",
      "V pol\n",
      "cb_19 15.706555988180469\n",
      "cb_18 -6.186351348032275\n",
      "cb_17 9.318180693726134\n",
      "cb_16 13.510744049692335\n",
      "cb_15 13.927267692750178\n",
      "tvc_19 -1.1647683598577032\n",
      "tvc_18 -3.1981873136551826\n"
     ]
    }
   ],
   "source": [
    "#print bias with mean simu for all year\n",
    "#index 29 for CV = 0.7\n",
    "# index 39 fro CV = 0.9\n",
    "\n",
    "cv_i = 39\n",
    "print('H pol')\n",
    "for i, y in enumerate(name):\n",
    "    if y == 'cb_19' or y == 'cb_17':\n",
    "        bias = tbh_mea[i] - sd42_tbh_cb[cv_i]\n",
    "\n",
    "    if y == 'cb_18' or y == 'cb_16' or y == 'cb_15':\n",
    "        bias = tbh_mea[i] - sd32_tbh_cb[cv_i]\n",
    "\n",
    "    if y == 'tvc_19' or y == 'tvc_18':\n",
    "        bias = tbh_mea[i] - sd41_tbh_tvc[cv_i]\n",
    "    print(y, bias)\n",
    "    \n",
    "print('V pol')\n",
    "for i, y in enumerate(name):\n",
    "    if y == 'cb_19' or y == 'cb_17':\n",
    "        bias = tbv_mea[i] - sd42_tbv_cb[cv_i]\n",
    "\n",
    "    if y == 'cb_18' or y == 'cb_16' or y == 'cb_15':\n",
    "        bias = tbv_mea[i] - sd32_tbv_cb[cv_i]\n",
    "\n",
    "    if y == 'tvc_19' or y == 'tvc_18':\n",
    "        bias = tbv_mea[i] - sd41_tbv_tvc[cv_i]\n",
    "    print(y, bias)"
   ]
  },
  {
   "cell_type": "markdown",
   "metadata": {},
   "source": [
    "## RMSE calculation"
   ]
  },
  {
   "cell_type": "code",
   "execution_count": 11,
   "metadata": {},
   "outputs": [
    {
     "name": "stdout",
     "output_type": "stream",
     "text": [
      "RMSE with mean simulation H pol : 17.834875274315177, V pol : 19.133303899800133\n"
     ]
    }
   ],
   "source": [
    "def rmse_w(arr1, arr2):\n",
    "    w_site = np.array([2, 2, 2, 2, 2, 5, 5])\n",
    "    return  np.sqrt(np.average((arr1 - arr2)**2, weights = w_site))\n",
    "def rmse(arr1, arr2):\n",
    "    return  np.sqrt(np.mean((arr1 - arr2)**2))\n",
    "rmseH = rmse(tbh_mea, tbh_simu)\n",
    "rmseV = rmse(tbv_mea, tbv_simu)\n",
    "print(f'RMSE with mean simulation H pol : {rmseH}, V pol : {rmseV}')\n",
    "rmse_mean = np.mean([rmseH, rmseV])"
   ]
  },
  {
   "cell_type": "code",
   "execution_count": 12,
   "metadata": {},
   "outputs": [
    {
     "name": "stdout",
     "output_type": "stream",
     "text": [
      "RMSE with mean simulation H pol : 9.74064415745193, V pol : 10.419003332093645\n"
     ]
    }
   ],
   "source": [
    "#w_site = np.array([2, 2, 2, 2, 2, 5, 5])\n",
    "cv_i = 39\n",
    "biasH_07 = []\n",
    "for i, y in enumerate(name):\n",
    "    if y == 'cb_19' or y == 'cb_17':\n",
    "        bias = tbh_mea[i] - sd42_tbh_cb[cv_i]\n",
    "\n",
    "    if y == 'cb_18' or y == 'cb_16' or y == 'cb_15':\n",
    "        bias = tbh_mea[i] - sd32_tbh_cb[cv_i]\n",
    "\n",
    "    if y == 'tvc_19' or y == 'tvc_18':\n",
    "        bias = tbh_mea[i] - sd41_tbh_tvc[cv_i]\n",
    "    biasH_07.append(bias)\n",
    "    \n",
    "rmseH = np.sqrt(np.mean(np.array(biasH_07)**2))\n",
    "\n",
    "biasV_07 = []\n",
    "for i, y in enumerate(name):\n",
    "    if y == 'cb_19' or y == 'cb_17':\n",
    "        bias = tbv_mea[i] - sd42_tbv_cb[cv_i]\n",
    "\n",
    "    if y == 'cb_18' or y == 'cb_16' or y == 'cb_15':\n",
    "        bias = tbv_mea[i] - sd32_tbv_cb[cv_i]\n",
    "\n",
    "    if y == 'tvc_19' or y == 'tvc_18':\n",
    "        bias = tbv_mea[i] - sd41_tbv_tvc[cv_i]\n",
    "    biasV_07.append(bias)\n",
    "    \n",
    "rmseV = np.sqrt(np.mean(np.array(biasV_07)**2))\n",
    "\n",
    "print(f'RMSE with mean simulation H pol : {rmseH}, V pol : {rmseV}')"
   ]
  },
  {
   "cell_type": "code",
   "execution_count": 13,
   "metadata": {},
   "outputs": [],
   "source": [
    "def import_inputs_std(file): \n",
    "    filehandler = open(file, 'rb') \n",
    "    Tb_cv_gp = pickle.load(filehandler)\n",
    "    cv = np.array([Tb_cv_gp[i]['cv'] for i in range(0,len(Tb_cv_gp))])\n",
    "    mean_tbh = np.array([Tb_cv_gp[i]['mean_tbh'] for i in range(0,len(Tb_cv_gp))])\n",
    "    mean_tbv = np.array([Tb_cv_gp[i]['mean_tbv'] for i in range(0,len(Tb_cv_gp))])\n",
    "    std_tbh = np.array([Tb_cv_gp[i]['std_tbh'] for i in range(0,len(Tb_cv_gp))])\n",
    "    std_tbv = np.array([Tb_cv_gp[i]['std_tbv'] for i in range(0,len(Tb_cv_gp))])\n",
    "    \n",
    "    return Tb_cv_gp, cv, mean_tbh, mean_tbv, std_tbh, std_tbv\n",
    "\n",
    "Tb_cv_gp, cv_std, mean_tbh, mean_tbv, std_tbh, std_tbv = import_inputs_std('results_tb_cv.obj')"
   ]
  },
  {
   "cell_type": "code",
   "execution_count": 16,
   "metadata": {},
   "outputs": [
    {
     "name": "stdout",
     "output_type": "stream",
     "text": [
      "[0.1        0.12307692 0.14615385 0.16923077 0.19230769 0.21538462\n",
      " 0.23846154 0.26153846 0.28461538 0.30769231 0.33076923 0.35384615\n",
      " 0.37692308 0.4        0.42307692 0.44615385 0.46923077 0.49230769\n",
      " 0.51538462 0.53846154 0.56153846 0.58461538 0.60769231 0.63076923\n",
      " 0.65384615 0.67692308 0.7        0.72307692 0.74615385 0.76923077\n",
      " 0.79230769 0.81538462 0.83846154 0.86153846 0.88461538 0.90769231\n",
      " 0.93076923 0.95384615 0.97692308 1.        ]\n"
     ]
    },
    {
     "data": {
      "image/png": "[encoded data removed]",
      "text/plain": [
       "<Figure size 432x288 with 1 Axes>"
      ]
     },
     "metadata": {
      "needs_background": "light"
     },
     "output_type": "display_data"
    }
   ],
   "source": [
    "#Compute RMSE for all year and sites\n",
    "list_rmseH = []\n",
    "for i in range(0, len(cv)):\n",
    "    list_bias = []\n",
    "    list_w = []\n",
    "    for index, y in enumerate(name):\n",
    "        if y == 'cb_19' or y == 'cb_17':\n",
    "            bias = tbh_mea[index] - sd42_tbh_cb[i]\n",
    "            w = 2\n",
    "            \n",
    "        if y == 'cb_18' or y == 'cb_16' or y == 'cb_15':\n",
    "            bias = tbh_mea[index] - sd32_tbh_cb[i]\n",
    "            w = 2\n",
    "            \n",
    "        if y == 'tvc_19' or y == 'tvc_18':\n",
    "            bias = tbh_mea[index] - sd41_tbh_tvc[i]\n",
    "            w = 5\n",
    "            \n",
    "        list_bias.append(bias)\n",
    "        list_w.append(w)\n",
    "    #Weighted average so TVC has as much importance than CB\n",
    "    #rmse = np.sqrt(np.average(np.array(list_bias)**2, axis = 0, weights = np.array(list_w)))\n",
    "    rmse = np.sqrt(np.mean(np.array(list_bias)**2))\n",
    "    list_rmseH.append(rmse)\n",
    "rmseH = np.array(list_rmseH)\n",
    "    \n",
    "#Compute RMSE for all year and sites\n",
    "list_rmseV = []\n",
    "for i in range(0, len(cv)):\n",
    "    list_bias = []\n",
    "    list_w = []\n",
    "    for index, y in enumerate(name):\n",
    "        if y == 'cb_19' or y == 'cb_17':\n",
    "            bias = tbv_mea[index] - sd42_tbv_cb[i]\n",
    "            w =2\n",
    "        if y == 'cb_18' or y == 'cb_16' or y == 'cb_15':\n",
    "            bias = tbv_mea[index] - sd32_tbv_cb[i]\n",
    "            w=2\n",
    "        if y == 'tvc_19' or y == 'tvc_18':\n",
    "            bias = tbv_mea[index] - sd41_tbv_tvc[i]\n",
    "            w=5\n",
    "        list_bias.append(bias)\n",
    "        list_w.append(w)\n",
    "    #Weighted average so TVC has as much importance than CB\n",
    "    #rmse = np.sqrt(np.average(np.array(list_bias)**2, axis = 0, weights = np.array(list_w)))\n",
    "    rmse = np.sqrt(np.mean(np.array(list_bias)**2))\n",
    "    list_rmseV.append(rmse)\n",
    "rmseV = np.array(list_rmseV)\n",
    "rmse = np.mean([rmseH,rmseV], axis = 0)\n",
    "rmse\n",
    "\n",
    "from matplotlib import rcParams\n",
    "rcParams.update({'figure.autolayout': True})\n",
    "\n",
    "plt.plot(cv, rmse, label = 'GP Simulation')\n",
    "print(cv)\n",
    "# 2Sigma region of error\n",
    "plt.plot(cv, rmse + 1.5*std_tbh, 'b', lw=1, alpha = 0.1)\n",
    "plt.plot(cv, rmse - 1.5*std_tbh, 'b', lw=1, alpha = 0.1);\n",
    "plt.fill_between(cv, rmse - 1.5*std_tbh, rmse + 1.5*std_tbh, color=\"b\", alpha=0.2)\n",
    "\n",
    "plt.ylabel('RMSE (K)', size = 15)\n",
    "plt.xlabel('$CV_{sd}$', size = 15)\n",
    "plt.xlim(0.1,1)\n",
    "plt.xticks(size = 14)\n",
    "plt.yticks(size = 14)\n",
    "plt.axhline(rmse_mean, linestyle = '--', color = 'black', label = 'Mean Simulation')\n",
    "plt.legend(prop = {'size': 15})\n",
    "plt.savefig(\"/home/julien/OneDrive/Doctorat/spatialVariability/article/fig/fig_cryo/fig08.png\", format = 'png', dpi = 300)"
   ]
  }
 ],
 "metadata": {
  "kernelspec": {
   "display_name": "Python [conda env:bayes]",
   "language": "python",
   "name": "conda-env-bayes-py"
  },
  "language_info": {
   "codemirror_mode": {
    "name": "ipython",
    "version": 3
   },
   "file_extension": ".py",
   "mimetype": "text/x-python",
   "name": "python",
   "nbconvert_exporter": "python",
   "pygments_lexer": "ipython3",
   "version": "3.7.6"
  }
 },
 "nbformat": 4,
 "nbformat_minor": 4
}
