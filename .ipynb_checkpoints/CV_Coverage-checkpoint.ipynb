{
 "cells": [
  {
   "cell_type": "code",
   "execution_count": 1,
   "metadata": {},
   "outputs": [],
   "source": [
    "import numpy as np\n",
    "import rasterio as rio\n",
    "import matplotlib.pyplot as plt\n",
    "import os\n",
    "import pandas as pd"
   ]
  },
  {
   "cell_type": "code",
   "execution_count": 2,
   "metadata": {},
   "outputs": [],
   "source": [
    "filename = \"/home/julien/OneDrive/Doctorat/spatialVariability/TVC_TPI_NDVI/snowDepth_March2018_10m/AOI1_10m.tif\"\n",
    "src = rio.open(filename)\n",
    "aoi1 = src.read(1)"
   ]
  },
  {
   "cell_type": "code",
   "execution_count": 3,
   "metadata": {},
   "outputs": [
    {
     "data": {
      "text/plain": [
       "<matplotlib.image.AxesImage at 0x7faaf7f7e100>"
      ]
     },
     "execution_count": 3,
     "metadata": {},
     "output_type": "execute_result"
    },
    {
     "data": {
      "image/png": "[encoded data removed]",
      "text/plain": [
       "<Figure size 432x288 with 1 Axes>"
      ]
     },
     "metadata": {
      "needs_background": "light"
     },
     "output_type": "display_data"
    }
   ],
   "source": [
    "plt.imshow(aoi1)"
   ]
  },
  {
   "cell_type": "code",
   "execution_count": 4,
   "metadata": {},
   "outputs": [
    {
     "data": {
      "text/plain": [
       "302480"
      ]
     },
     "execution_count": 4,
     "metadata": {},
     "output_type": "execute_result"
    }
   ],
   "source": [
    "shape = aoi1.shape \n",
    "area = shape[0] * shape[1] * 10\n",
    "area"
   ]
  },
  {
   "cell_type": "code",
   "execution_count": 5,
   "metadata": {},
   "outputs": [
    {
     "data": {
      "text/plain": [
       "array([[-99999., -99999., -99999., ..., -99999., -99999., -99999.],\n",
       "       [-99999., -99999., -99999., ..., -99999., -99999., -99999.],\n",
       "       [-99999., -99999., -99999., ..., -99999., -99999., -99999.],\n",
       "       ...,\n",
       "       [-99999., -99999., -99999., ..., -99999., -99999., -99999.],\n",
       "       [-99999., -99999., -99999., ..., -99999., -99999., -99999.],\n",
       "       [-99999., -99999., -99999., ..., -99999., -99999., -99999.]],\n",
       "      dtype=float32)"
      ]
     },
     "execution_count": 5,
     "metadata": {},
     "output_type": "execute_result"
    }
   ],
   "source": [
    "aoi1"
   ]
  },
  {
   "cell_type": "code",
   "execution_count": 6,
   "metadata": {},
   "outputs": [
    {
     "data": {
      "text/plain": [
       "(18480,)"
      ]
     },
     "execution_count": 6,
     "metadata": {},
     "output_type": "execute_result"
    }
   ],
   "source": [
    "aoi1[aoi1 == -99999] = np.nan\n",
    "aoi1 = aoi1[~np.isnan(aoi1)]\n",
    "snow = np.ravel(aoi1)\n",
    "snow.shape"
   ]
  },
  {
   "cell_type": "code",
   "execution_count": 7,
   "metadata": {},
   "outputs": [
    {
     "name": "stdout",
     "output_type": "stream",
     "text": [
      "2018-03-13_SD_AOI3.tif\n",
      "[0.15026093 0.15086746 0.13031769 ... 1.486702   1.7302856  1.7068939 ]\n",
      "2018-04-22_SD_AOI1.tif\n",
      "[1.0709872  1.0655246  1.067777   ... 0.7696656  0.76132417 0.8050401 ]\n",
      "2018-03-12_SD_AOI2.tif\n",
      "[0.35313416 0.13181305 0.21299744 ... 0.         0.         0.        ]\n",
      "2018-03-20_SD_AOI9.tif\n",
      "[0. 0. 0. ... 0. 0. 0.]\n",
      "2018-03-13_SD_AOI4.tif\n",
      "[1.9440994  1.9863281  1.9629669  ... 1.007103   1.0168686  0.97805023]\n",
      "2018-03-16_SD_AOI7.tif\n",
      "[0.9422684 0.9523697 0.9400253 ... 2.        2.        2.       ]\n",
      "2018-03-16_SD_AOI8.tif\n",
      "[0. 0. 0. ... 0. 0. 0.]\n"
     ]
    }
   ],
   "source": [
    "#home = \"/home/julien/OneDrive/Doctorat/spatialVariability/TVC_TPI_NDVI/snowDepth_March2018_10m\"\n",
    "home = \"/home/julien/Documents/Data/TVC_Data/SnowDepthRaster1x1m\"\n",
    "#home = \"/home/julien/OneDrive/Doctorat/spatialVariability/TVC_TPI_NDVI/Snow Depth Raster2m_march2018\"\n",
    "def import_aoi(file):\n",
    "    src = rio.open(file)\n",
    "    aoi = src.read(1)\n",
    "    shape = aoi.shape \n",
    "    area = shape[0] * shape[1] \n",
    "    aoi[aoi == -99999] = np.nan\n",
    "    aoi[aoi <= -3.402823e+38] = np.nan\n",
    "    aoi = aoi[~np.isnan(aoi)]\n",
    "    snow = np.ravel(aoi)\n",
    "    print(snow)\n",
    "    mean_sd = np.mean(snow)\n",
    "    std_sd = np.std(snow)\n",
    "    cv_sd = std_sd/mean_sd\n",
    "    \n",
    "    return area, mean_sd, cv_sd, snow\n",
    "\n",
    "list_aoi = []\n",
    "for file in os.listdir(home):\n",
    "    if \".tif\" in file:\n",
    "        print(file)\n",
    "        area, mean_sd, cv_sd, snow = import_aoi(os.path.join(home, file))\n",
    "        list_aoi.append({\"aoi\" : file[:-8] , \"area\" : area, \"mean\" : mean_sd, \"cv\" : cv_sd, 'n' : len(snow)})\n",
    "\n",
    "# Add CB         \n",
    "file_map_cb = '/home/julien/OneDrive/Doctorat/spatialVariability/CamBay_TPI_NDVI/snowdepth_MayJuly2019_1-6_lowVeg_1m.tif'\n",
    "src = rio.open(file_map_cb)\n",
    "aoi = src.read(1)\n",
    "shape = aoi.shape \n",
    "#resolution for CB is 1m\n",
    "area = shape[0] * shape[1]\n",
    "aoi[aoi == -99999] = np.nan\n",
    "aoi = aoi[~np.isnan(aoi)]\n",
    "snow = np.ravel(aoi)\n",
    "mean_sd = np.mean(snow)\n",
    "std_sd = np.std(snow)\n",
    "cv_sd = std_sd/mean_sd\n",
    "list_aoi.append({\"aoi\" : \"CB\" , \"area\" : area, \"mean\" : mean_sd, \"cv\" : cv_sd, 'n' : len(snow)})\n",
    "\n",
    "# build dataframe\n",
    "data = pd.DataFrame(list_aoi)\n",
    "data.area = data.area /1e6"
   ]
  },
  {
   "cell_type": "code",
   "execution_count": 8,
   "metadata": {},
   "outputs": [
    {
     "name": "stdout",
     "output_type": "stream",
     "text": [
      "total n for TVC : 6325365\n",
      "total n for CB : 72902\n"
     ]
    }
   ],
   "source": [
    "print(f'total n for TVC : {np.sum(data.n) - data.n.values[-1]}')\n",
    "print(f'total n for CB : {data.n.values[-1]}')"
   ]
  },
  {
   "cell_type": "code",
   "execution_count": 9,
   "metadata": {},
   "outputs": [
    {
     "data": {
      "text/html": [
       "<div>\n",
       "<style scoped>\n",
       "    .dataframe tbody tr th:only-of-type {\n",
       "        vertical-align: middle;\n",
       "    }\n",
       "\n",
       "    .dataframe tbody tr th {\n",
       "        vertical-align: top;\n",
       "    }\n",
       "\n",
       "    .dataframe thead th {\n",
       "        text-align: right;\n",
       "    }\n",
       "</style>\n",
       "<table border=\"1\" class=\"dataframe\">\n",
       "  <thead>\n",
       "    <tr style=\"text-align: right;\">\n",
       "      <th></th>\n",
       "      <th>aoi</th>\n",
       "      <th>area</th>\n",
       "      <th>mean</th>\n",
       "      <th>cv</th>\n",
       "      <th>n</th>\n",
       "    </tr>\n",
       "  </thead>\n",
       "  <tbody>\n",
       "    <tr>\n",
       "      <th>0</th>\n",
       "      <td>2018-03-13_SD_</td>\n",
       "      <td>2.296200</td>\n",
       "      <td>0.538728</td>\n",
       "      <td>0.915237</td>\n",
       "      <td>359589</td>\n",
       "    </tr>\n",
       "    <tr>\n",
       "      <th>1</th>\n",
       "      <td>2018-04-22_SD_</td>\n",
       "      <td>3.043428</td>\n",
       "      <td>0.376670</td>\n",
       "      <td>0.843812</td>\n",
       "      <td>1816471</td>\n",
       "    </tr>\n",
       "    <tr>\n",
       "      <th>2</th>\n",
       "      <td>2018-03-12_SD_</td>\n",
       "      <td>1.068870</td>\n",
       "      <td>0.582795</td>\n",
       "      <td>0.727650</td>\n",
       "      <td>587574</td>\n",
       "    </tr>\n",
       "    <tr>\n",
       "      <th>3</th>\n",
       "      <td>2018-03-20_SD_</td>\n",
       "      <td>2.304309</td>\n",
       "      <td>0.573508</td>\n",
       "      <td>0.954500</td>\n",
       "      <td>898835</td>\n",
       "    </tr>\n",
       "    <tr>\n",
       "      <th>4</th>\n",
       "      <td>2018-03-13_SD_</td>\n",
       "      <td>1.268892</td>\n",
       "      <td>0.670648</td>\n",
       "      <td>0.563622</td>\n",
       "      <td>406796</td>\n",
       "    </tr>\n",
       "    <tr>\n",
       "      <th>5</th>\n",
       "      <td>2018-03-16_SD_</td>\n",
       "      <td>1.222270</td>\n",
       "      <td>0.497107</td>\n",
       "      <td>0.677865</td>\n",
       "      <td>771056</td>\n",
       "    </tr>\n",
       "    <tr>\n",
       "      <th>6</th>\n",
       "      <td>2018-03-16_SD_</td>\n",
       "      <td>4.155396</td>\n",
       "      <td>0.417239</td>\n",
       "      <td>0.839751</td>\n",
       "      <td>1485044</td>\n",
       "    </tr>\n",
       "    <tr>\n",
       "      <th>7</th>\n",
       "      <td>CB</td>\n",
       "      <td>0.151285</td>\n",
       "      <td>0.388684</td>\n",
       "      <td>0.493696</td>\n",
       "      <td>72902</td>\n",
       "    </tr>\n",
       "  </tbody>\n",
       "</table>\n",
       "</div>"
      ],
      "text/plain": [
       "              aoi      area      mean        cv        n\n",
       "0  2018-03-13_SD_  2.296200  0.538728  0.915237   359589\n",
       "1  2018-04-22_SD_  3.043428  0.376670  0.843812  1816471\n",
       "2  2018-03-12_SD_  1.068870  0.582795  0.727650   587574\n",
       "3  2018-03-20_SD_  2.304309  0.573508  0.954500   898835\n",
       "4  2018-03-13_SD_  1.268892  0.670648  0.563622   406796\n",
       "5  2018-03-16_SD_  1.222270  0.497107  0.677865   771056\n",
       "6  2018-03-16_SD_  4.155396  0.417239  0.839751  1485044\n",
       "7              CB  0.151285  0.388684  0.493696    72902"
      ]
     },
     "execution_count": 9,
     "metadata": {},
     "output_type": "execute_result"
    }
   ],
   "source": [
    "data"
   ]
  },
  {
   "cell_type": "code",
   "execution_count": 10,
   "metadata": {},
   "outputs": [],
   "source": [
    "#add data from Alain litterature review\n",
    "area_a = pd.DataFrame([0.01, 0.015, 0.36, 0.7, 5, 5])\n",
    "cv_a = pd.DataFrame([0.24, 0.33, 0.53, 0.53, 1.0, 0.89])\n"
   ]
  },
  {
   "cell_type": "code",
   "execution_count": 11,
   "metadata": {},
   "outputs": [],
   "source": [
    "#put Alain and UAV data together for exponential fit\n",
    "area_fit = pd.concat([data.area, area_a]).values[:,0]\n",
    "cv_fit = pd.concat([data.cv, cv_a]).values[:,0]"
   ]
  },
  {
   "cell_type": "code",
   "execution_count": 12,
   "metadata": {},
   "outputs": [
    {
     "data": {
      "text/plain": [
       "array([0.91523653, 0.84381157, 0.72764993, 0.9545005 , 0.56362164,\n",
       "       0.67786479, 0.83975124, 0.49369583, 0.24      , 0.33      ,\n",
       "       0.53      , 0.53      , 1.        , 0.89      ])"
      ]
     },
     "execution_count": 12,
     "metadata": {},
     "output_type": "execute_result"
    }
   ],
   "source": [
    "cv_fit"
   ]
  },
  {
   "cell_type": "code",
   "execution_count": 13,
   "metadata": {},
   "outputs": [
    {
     "data": {
      "text/plain": [
       "array([0.32173438, 0.38113469, 0.4348398 , 0.48339576, 0.52729626,\n",
       "       0.56698767, 0.60287353, 0.63531872, 0.66465312, 0.69117499,\n",
       "       0.71515399, 0.73683393, 0.75643524, 0.77415721, 0.79018002,\n",
       "       0.8046666 , 0.81776423, 0.82960608, 0.84031256, 0.84999252,\n",
       "       0.85874438, 0.86665713, 0.87381122, 0.88027939, 0.8861274 ,\n",
       "       0.89141472, 0.89619509, 0.90051714, 0.90442479, 0.90795778,\n",
       "       0.91115204, 0.91404004, 0.91665114, 0.91901189, 0.9211463 ,\n",
       "       0.92307607, 0.92482081, 0.92639827, 0.92782449, 0.92911396])"
      ]
     },
     "execution_count": 13,
     "metadata": {},
     "output_type": "execute_result"
    }
   ],
   "source": [
    "from scipy.optimize import curve_fit\n",
    "\n",
    "def exponential(x, r, c0, b=0):\n",
    "    a =  r/3\n",
    "    return b + c0 * (1 - np.exp(-x/a))\n",
    "\n",
    "param, cov = curve_fit(exponential, area_fit, cv_fit)\n",
    "\n",
    "\n",
    "x_i = np.linspace(0, 5, 40)\n",
    "y_fit = exponential(x = x_i, r = param[0], c0 = param[1], b = param[2])\n",
    "perr = np.sqrt(np.diag(cov))\n",
    "y_fit"
   ]
  },
  {
   "cell_type": "code",
   "execution_count": 14,
   "metadata": {},
   "outputs": [
    {
     "data": {
      "text/plain": [
       "0.8832989308545086"
      ]
     },
     "execution_count": 14,
     "metadata": {},
     "output_type": "execute_result"
    }
   ],
   "source": [
    "from scipy import stats\n",
    "#Evaluate R2\n",
    "y_r2 = exponential(x = area_fit, r = param[0], c0 = param[1], b = param[2])\n",
    "slope, intercept, r_value, p_value, std_err = stats.linregress(np.log(cv_fit), np.log(y_r2))\n",
    "r2 = r_value**2\n",
    "r2"
   ]
  },
  {
   "cell_type": "code",
   "execution_count": 26,
   "metadata": {},
   "outputs": [
    {
     "data": {
      "image/png": "[encoded data removed]",
      "text/plain": [
       "<Figure size 504x288 with 1 Axes>"
      ]
     },
     "metadata": {
      "needs_background": "light"
     },
     "output_type": "display_data"
    }
   ],
   "source": [
    "from matplotlib import rcParams\n",
    "rcParams.update({'figure.autolayout': True})\n",
    "\n",
    "plt.figure(figsize = (7,4))\n",
    "plt.scatter(data.area, data.cv)\n",
    "point = plt.scatter(area_a, cv_a, marker = '+', s = 80, color = 'red')\n",
    "point.set_clip_on(False)\n",
    "plt.plot(x_i, y_fit, linestyle = '--', color = 'black', label = 'exponential fit')\n",
    "plt.xlabel(\"Coverage (km²) of sampling\", size = 15)\n",
    "plt.ylabel(\"$CV_{sd}$\", size = 15)\n",
    "plt.xticks(size = 14)\n",
    "plt.yticks(size = 14)\n",
    "plt.xlim(-0.1, 5)\n",
    "#plt.legend(prop = {'size' : 12})\n",
    "plt.savefig(\"/home/julien/OneDrive/Doctorat/spatialVariability/article/fig/fig_cryo/fig03.png\", format = 'png', dpi = 300)"
   ]
  }
 ],
 "metadata": {
  "kernelspec": {
   "display_name": "Python [conda env:geo] *",
   "language": "python",
   "name": "conda-env-geo-py"
  },
  "language_info": {
   "codemirror_mode": {
    "name": "ipython",
    "version": 3
   },
   "file_extension": ".py",
   "mimetype": "text/x-python",
   "name": "python",
   "nbconvert_exporter": "python",
   "pygments_lexer": "ipython3",
   "version": "3.8.2"
  }
 },
 "nbformat": 4,
 "nbformat_minor": 4
}
