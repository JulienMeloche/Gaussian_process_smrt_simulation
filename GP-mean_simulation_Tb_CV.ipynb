{
 "cells": [
  {
   "cell_type": "code",
   "execution_count": 15,
   "metadata": {},
   "outputs": [
    {
     "name": "stdout",
     "output_type": "stream",
     "text": [
      "3.7.6 | packaged by conda-forge | (default, Mar 23 2020, 23:03:20) \n",
      "[GCC 7.3.0]\n"
     ]
    },
    {
     "data": {
      "text/plain": [
       "'\\nThis notebook allows to run the GP simulation for sub pixel spatial variability of tundra snow\\nwith the SMRT model. The Gaussian processes implementation is done with pymc3 and the radiative transfer is SMRT.\\n\\nThis code has to be run before Bias_simulation_mean_GP.ipynb and provide inputs for it. The next notebook\\nallows for bias and RMSE calculation to be done with measurement from the SSMIS satellite sensor\\n'"
      ]
     },
     "execution_count": 15,
     "metadata": {},
     "output_type": "execute_result"
    }
   ],
   "source": [
    "import pandas as pd\n",
    "import numpy as np\n",
    "from scipy import stats\n",
    "from theano import shared\n",
    "import pymc3 as pm\n",
    "import pickle\n",
    "import sys\n",
    "print(sys.version) \n",
    "\n",
    "\"\"\"\n",
    "This notebook allows to run the GP simulation for sub pixel spatial variability of tundra snow\n",
    "with the SMRT model. The Gaussian processes implementation is done with pymc3 and the radiative transfer is SMRT.\n",
    "\n",
    "This code has to be run before Bias_simulation_mean_GP.ipynb and provide inputs for it. The next notebook\n",
    "allows for bias and RMSE calculation to be done with measurement from the SSMIS satellite sensor\n",
    "\"\"\"\n"
   ]
  },
  {
   "cell_type": "code",
   "execution_count": 20,
   "metadata": {},
   "outputs": [
    {
     "name": "stdout",
     "output_type": "stream",
     "text": [
      "1.16.4\n",
      "0.25.1\n",
      "3.9.3\n"
     ]
    },
    {
     "data": {
      "text/plain": [
       "'1.3.1'"
      ]
     },
     "execution_count": 20,
     "metadata": {},
     "output_type": "execute_result"
    }
   ],
   "source": [
    "import scipy\n",
    "print(np.__version__)\n",
    "print(pd.__version__)\n",
    "print(pm.__version__)\n",
    "scipy.__version__"
   ]
  },
  {
   "cell_type": "code",
   "execution_count": 9,
   "metadata": {},
   "outputs": [],
   "source": [
    "#import data of layer ratio\n",
    "#Cambay\n",
    "filename = 'ratio_WS_DH_snowpit2015.csv'\n",
    "df_cb15 = pd.read_csv(filename)\n",
    "filename = 'ratio_WS_DH_snowpit2016.csv'\n",
    "df_cb16 = pd.read_csv(filename)\n",
    "filename = 'ratio_WS_DH_snowpit2017.csv'\n",
    "df_cb17 = pd.read_csv(filename)\n",
    "filename = 'ratio_WS_DH_snowpit2018_NDVI_Sx.csv'\n",
    "df_cb18 = pd.read_csv(filename)\n",
    "filename = 'ratio_WS_DH_snowpit2019_NDVI_Sx.csv'\n",
    "df_cb19 = pd.read_csv(filename)\n",
    "\n",
    "# TVC data\n",
    "filename = 'ratio_layer_TVC_March2018_strat_update_NDVI_TPI.csv'\n",
    "df_tvc18 = pd.read_csv(filename)\n",
    "filename = 'ratio_layer_TVC_March2019_strat_update_NDVI_TPI.csv'\n",
    "df_tvc19 = pd.read_csv(filename)\n",
    "\n",
    "#Creating dataframe input for Gaussian process\n",
    "X = df_cb15['thickness'].append(df_cb16['thickness']).append(df_cb17['thickness']).append(df_cb18['thickness']).append(df_cb19['thickness']).append(df_tvc18['total_depth (cm)']).append(df_tvc19['total_depth (cm)'])/100\n",
    "Y_DH = df_cb15['% DH'].append(df_cb16['% DH']).append(df_cb17['% DH']).append(df_cb18['% DH']).append(df_cb19['% DH']).append(df_tvc18['DH']).append(df_tvc19['DH'])\n",
    "Y_WS = df_cb15['% WS'].append(df_cb16['% WS']).append(df_cb17['% WS']).append(df_cb18['% WS']).append(df_cb19['% WS']).append(df_tvc18['WS']).append(df_tvc19['WS'])\n",
    "\n",
    "#removing NaN\n",
    "df = pd.DataFrame({'x' : X, 'y_DH' : Y_DH, 'y_WS' : Y_WS})\n",
    "df = df.drop(df[np.isnan(df.y_DH) == True ].index)\n",
    "df.y_DH[df.y_DH == 0] =0.01\n",
    "df.y_DH[df.y_DH == 1] =0.99\n",
    "\n"
   ]
  },
  {
   "cell_type": "code",
   "execution_count": 10,
   "metadata": {},
   "outputs": [
    {
     "name": "stderr",
     "output_type": "stream",
     "text": [
      "Auto-assigning NUTS sampler...\n",
      "Initializing NUTS using jitter+adapt_diag...\n",
      "Multiprocess sampling (2 chains in 4 jobs)\n",
      "NUTS: [f_rotated_, sigma]\n"
     ]
    },
    {
     "data": {
      "text/html": [
       "\n",
       "    <div>\n",
       "        <style>\n",
       "            /* Turns off some styling */\n",
       "            progress {\n",
       "                /* gets rid of default border in Firefox and Opera. */\n",
       "                border: none;\n",
       "                /* Needs to be in here for Safari polyfill so background images work as expected. */\n",
       "                background-size: auto;\n",
       "            }\n",
       "            .progress-bar-interrupted, .progress-bar-interrupted::-webkit-progress-bar {\n",
       "                background: #F44336;\n",
       "            }\n",
       "        </style>\n",
       "      <progress value='4000' class='' max='4000' style='width:300px; height:20px; vertical-align: middle;'></progress>\n",
       "      100.00% [4000/4000 00:22<00:00 Sampling 2 chains, 0 divergences]\n",
       "    </div>\n",
       "    "
      ],
      "text/plain": [
       "<IPython.core.display.HTML object>"
      ]
     },
     "metadata": {},
     "output_type": "display_data"
    },
    {
     "name": "stderr",
     "output_type": "stream",
     "text": [
      "Sampling 2 chains for 1_000 tune and 1_000 draw iterations (2_000 + 2_000 draws total) took 22 seconds.\n",
      "/home/julien/anaconda3/envs/bayes/lib/python3.7/site-packages/pymc3/gp/cov.py:93: UserWarning: Only 1 column(s) out of Subtensor{int64}.0 are being used to compute the covariance function. If this is not intended, increase 'input_dim' parameter to the number of columns to use. Ignore otherwise.\n",
      "  \" the number of columns to use. Ignore otherwise.\", UserWarning)\n"
     ]
    }
   ],
   "source": [
    "#Building the Gaussian process fit with pymc3\n",
    "#theano is already install in pymc3\n",
    "\n",
    "# Defining the invLogit Mean Function\n",
    "import theano.tensor as tt\n",
    "\n",
    "class InvLogit(pm.gp.mean.Mean):\n",
    "    \"\"\"\n",
    "    InvLogit function for Gaussian process. Customn Mean function\n",
    "    \"\"\"\n",
    "\n",
    "    def __init__(self, a, x0, c, d):\n",
    "        pm.gp.mean.Mean.__init__(self)\n",
    "        self.a = a\n",
    "        self.x0 = x0\n",
    "        self.c = c\n",
    "        self.d = d\n",
    "\n",
    "    def __call__(self, X):\n",
    "        return (self.d * pm.math.invlogit(self.a*(X - self.x0)) + self.c).reshape((-1,))\n",
    "\n",
    "\"\"\"\n",
    "begin GP Model\n",
    "\"\"\"\n",
    "#train model\n",
    "with pm.Model() as gp_model_1:\n",
    "\n",
    "    #param from figure 5 in paper \n",
    "    #custom Mean function\n",
    "    mean_func = InvLogit(a = np.array([-5]), x0 = np.array([0.5]), c = np.array([0.2]), d = np.array([0.35]))\n",
    "    \n",
    "    def logistic(x, a, x0, c, d):\n",
    "    # a is the slope, x0 is the location\n",
    "        return d * pm.math.invlogit(a*(x - x0)) + c\n",
    "    \n",
    "    #param from figure 5 in paper\n",
    "    #params for invlogit for Cov func\n",
    "    a = -5.0\n",
    "    x0 = 0.6\n",
    "    c = 0.25\n",
    "    d = 1.5\n",
    "    sigma = pm.HalfNormal('sigma', sd =0.1)\n",
    "    cov_base = pm.gp.cov.WhiteNoise(0.15)\n",
    "    cov_func = pm.gp.cov.ScaledCov(1, scaling_func=logistic, args=(a,x0,c,d), cov_func=cov_base)\n",
    "\n",
    "    # Specify the GP\n",
    "    gp = pm.gp.Latent(mean_func = mean_func, cov_func=cov_func)\n",
    "    # make gp prior\n",
    "    f = gp.prior(\"f\", X=df.x.values.reshape(-1,1))\n",
    "    p = pm.Deterministic(\"p\", pm.math.invlogit(f))\n",
    "    y = pm.Beta(\"y\", mu = p, sigma = sigma, observed = df.y_DH.values)\n",
    "    #mp = pm.find_MAP()\n",
    "    gp_trace1 = pm.sample(1000, tune=1000, chains=2)\n",
    "    \n",
    "#set up parameter log-normal on new X with shared variables\n",
    "zeta = np.sqrt(np.log(1 + 0.4**2))\n",
    "lam = np.log(0.4) - (zeta**2)/2\n",
    "n_sub = 500\n",
    "#set up conditional and shared variable for the prediction\n",
    "with gp_model_1:\n",
    "    x_depth = stats.lognorm.rvs(scale = np.exp(lam),s = zeta, loc = 0, size = n_sub).reshape(-1,1)\n",
    "    x_tensor = shared(value = x_depth)\n",
    "    f_pred = gp.conditional(f'y_pred', x_tensor, shape = n_sub)\n",
    "\n",
    "    "
   ]
  },
  {
   "cell_type": "code",
   "execution_count": 11,
   "metadata": {},
   "outputs": [],
   "source": [
    "##check trace if necessary once, leave as comment otherwise\n",
    "#pm.traceplot(gp_trace1)"
   ]
  },
  {
   "cell_type": "code",
   "execution_count": 18,
   "metadata": {},
   "outputs": [
    {
     "ename": "AttributeError",
     "evalue": "module 'smrt' has no attribute '__version__'",
     "output_type": "error",
     "traceback": [
      "\u001b[0;31m---------------------------------------------------------------------------\u001b[0m",
      "\u001b[0;31mAttributeError\u001b[0m                            Traceback (most recent call last)",
      "\u001b[0;32m<ipython-input-18-d89adfc1b7a0>\u001b[0m in \u001b[0;36m<module>\u001b[0;34m\u001b[0m\n\u001b[1;32m      1\u001b[0m \u001b[0;32mimport\u001b[0m \u001b[0msmrt\u001b[0m\u001b[0;34m\u001b[0m\u001b[0;34m\u001b[0m\u001b[0m\n\u001b[0;32m----> 2\u001b[0;31m \u001b[0msmrt\u001b[0m\u001b[0;34m.\u001b[0m\u001b[0m__version__\u001b[0m\u001b[0;34m\u001b[0m\u001b[0;34m\u001b[0m\u001b[0m\n\u001b[0m",
      "\u001b[0;31mAttributeError\u001b[0m: module 'smrt' has no attribute '__version__'"
     ]
    }
   ],
   "source": []
  },
  {
   "cell_type": "code",
   "execution_count": 12,
   "metadata": {},
   "outputs": [],
   "source": [
    "from smrt import make_soil, sensor_list, make_model, make_snowpack, make_interface\n",
    "from smrt.inputs.make_medium import make_generic_stack\n",
    "from smrt.core.globalconstants import DENSITY_OF_ICE\n",
    "from smrt.atmosphere.simple_isotropic_atmosphere import SimpleIsotropicAtmosphere\n",
    "\n",
    "def ssa_to_l(ssa, density):\n",
    "    #converting SSA to correlation length\n",
    "    f = density/DENSITY_OF_ICE\n",
    "    l_d = 4 * (1-f)/(DENSITY_OF_ICE*ssa)\n",
    "    return l_d\n",
    "\n",
    "\n",
    "def simu_mean(mu, temp_surface, temp_base):\n",
    "    n_sub = 500\n",
    "    #mu =0.34\n",
    "    CV = list(np.linspace(0.1, 1, 40))\n",
    "    #mean ratio of both site\n",
    "    ratio_dh = 0.46\n",
    "    ratio_ws = 0.54\n",
    "    #mean density from table 5\n",
    "    density_DH = 266\n",
    "    density_WS = 335\n",
    "\n",
    "    #correlation length calculation with kapp = 1.39\n",
    "    #SSA for DH 11 (table 5)\n",
    "    #SSA for WS 20 (table 5)\n",
    "    l_DH = 1.39 * ssa_to_l(11, density_DH)\n",
    "    l_WS = 1.39 * ssa_to_l(20, density_WS)\n",
    "\n",
    "    #Tb for mean depth\n",
    "    #37\n",
    "    sp = make_snowpack(thickness= [mu* ratio_dh, mu*ratio_ws],\n",
    "                   microstructure_model = 'exponential',\n",
    "                   density = [density_WS, density_DH],\n",
    "                   corr_length = [l_WS, l_DH],                 \n",
    "                   temperature = [temp_surface, temp_base])\n",
    "    substrate = make_soil('soil_wegmuller', complex(3.34,0.005), temperature = temp_base, roughness_rms = 0.017)\n",
    "    medium = sp + substrate\n",
    "    radiometer = sensor_list.passive(37e9, 55)\n",
    "    model = make_model(\"iba\", 'dort')\n",
    "    res = model.run(radiometer, medium)\n",
    "    print(f' 37 Mean depth TbV : {res.TbV()}, TbH : {res.TbH()}')\n",
    "    \n",
    "    return res.TbV(), res.TbH()"
   ]
  },
  {
   "cell_type": "code",
   "execution_count": 13,
   "metadata": {},
   "outputs": [],
   "source": [
    "def simu_GP(mu, temp_surface, temp_base):\n",
    "#Tb fo GP process and log Normal \n",
    "    n_sub = 500\n",
    "    Tb_cv_37 = []\n",
    "    \n",
    "    CV = list(np.linspace(0.1, 1, 40))\n",
    "    #mean ratio of both site\n",
    "    ratio_dh = 0.46\n",
    "    ratio_ws = 0.54\n",
    "    #mean density from table 5\n",
    "    density_DH = 266\n",
    "    density_WS = 335\n",
    "    #correlation length calculation with kapp = 1.39\n",
    "    #SSA for DH 11 (table 5)\n",
    "    #SSA for WS 20 (table 5)\n",
    "    l_DH = 1.39 * ssa_to_l(11, density_DH)\n",
    "    l_WS = 1.39 * ssa_to_l(20, density_WS)\n",
    "    \n",
    "    for cv in CV:\n",
    "        #for error estimate, run 10 times\n",
    "        #error_h, error_v = [], []\n",
    "        #for n in range(0,10):   \n",
    "        zeta = np.sqrt(np.log(1 + cv**2))\n",
    "        lam = np.log(mu) - (zeta**2)/2\n",
    "        swe_pred = []\n",
    "        with gp_model_1:\n",
    "            x_depth = stats.lognorm.rvs(scale = np.exp(lam),s = zeta, loc = 0, size = n_sub).reshape(-1,1)\n",
    "            x_tensor.set_value(x_depth)\n",
    "            y_samples = pm.sample_posterior_predictive(gp_trace1, vars=[f_pred], samples = 3, progressbar = False)\n",
    "\n",
    "        DH = y_samples[f'y_pred'][1,:]\n",
    "        DH = np.where(DH >= 0, DH, 0.01)\n",
    "        DH = np.where(DH <= 1.0, DH, 0.99)\n",
    "\n",
    "        radiometer = sensor_list.passive(37e9, 55)\n",
    "        model = make_model(\"iba\", 'dort')\n",
    "        tbv, tbh = [], []\n",
    "        for idx, d in np.ndenumerate(x_depth):\n",
    "            thick = [d * DH[idx[0]], d * (1 - DH[idx[0]])]\n",
    "            sp = make_snowpack(thickness= thick,\n",
    "                           microstructure_model = 'exponential',\n",
    "                           density = [density_WS, density_DH],\n",
    "                           corr_length = [l_WS, l_DH],                 \n",
    "                           temperature = [temp_surface, temp_base])\n",
    "            substrate = make_soil('soil_wegmuller', complex(3.34,0.005), temperature = temp_base, roughness_rms = 0.017)\n",
    "            medium = sp + substrate\n",
    "            res = model.run(radiometer, medium)\n",
    "            tbv.append(res.TbV())\n",
    "            tbh.append(res.TbH())\n",
    "\n",
    "        #error_h.append(np.mean(tbh))\n",
    "        #error_v.append(np.mean(tbv))\n",
    "\n",
    "        mean_tbv, mean_tbh = np.mean(tbv), np.mean(tbh)\n",
    "        #std_tbv, std_tbh = np.std(error_v), np.std(error_h)\n",
    "        print(f'CV : {cv}, tbv : {mean_tbv} , tbh : {mean_tbh}')\n",
    "        #print(f'CV : {cv}, tbv : {mean_tbv} ± {std_tbv}, tbh : {mean_tbh} ± {std_tbh}')\n",
    "        Tb_cv_37.append({'cv' : cv, 'mean_tbv' : mean_tbv, 'mean_tbh' : mean_tbh, \n",
    "                         'tbv' : tbv, 'tbh' : tbh})\n",
    "        \n",
    "    return Tb_cv_37\n"
   ]
  },
  {
   "cell_type": "markdown",
   "metadata": {},
   "source": [
    "## CB"
   ]
  },
  {
   "cell_type": "code",
   "execution_count": 14,
   "metadata": {},
   "outputs": [
    {
     "name": "stdout",
     "output_type": "stream",
     "text": [
      " 37 Mean depth TbV : 186.15513203454074, TbH : 167.1910251328983\n",
      " 37 Mean depth TbV : 190.39378129864025, TbH : 171.284260932607\n",
      " 37 Mean depth TbV : 186.15513203454074, TbH : 167.1910251328983\n",
      " 37 Mean depth TbV : 192.1336320252846, TbH : 173.20109132124063\n",
      " 37 Mean depth TbV : 186.8463315727031, TbH : 168.22822803832068\n"
     ]
    }
   ],
   "source": [
    "#Tb for mean depth for CB\n",
    "#temperature and mean depth from table 1 and table 2 \n",
    "# mean depth = 0.42, temp 260, 257\n",
    "TBV_cb_19, TBH_cb_19 = simu_mean(0.42, 261, 257)\n",
    "# mean depth = 0.34, temp 260, 257\n",
    "TBV_cb_18, TBH_cb_18 = simu_mean(0.34, 261, 257)\n",
    "# mean depth = 0.42, temp 260, 257\n",
    "TBV_cb_17, TBH_cb_17= simu_mean(0.42, 261, 257)\n",
    "# mean depth = 0.28, temp 257, 257\n",
    "TBV_cb_16, TBH_cb_16 = simu_mean(0.28, 255, 255)\n",
    "# mean depth = 0.42, temp 256, 257\n",
    "TBV_cb_15, TBH_cb_15 = simu_mean(0.32, 255, 253)"
   ]
  },
  {
   "cell_type": "code",
   "execution_count": 15,
   "metadata": {},
   "outputs": [
    {
     "name": "stderr",
     "output_type": "stream",
     "text": [
      "/home/julien/anaconda3/envs/bayes/lib/python3.7/site-packages/pymc3/sampling.py:1708: UserWarning: samples parameter is smaller than nchains times ndraws, some draws and/or chains may not be represented in the returned posterior predictive sample\n",
      "  \"samples parameter is smaller than nchains times ndraws, some draws \"\n"
     ]
    },
    {
     "name": "stdout",
     "output_type": "stream",
     "text": [
      "CV : 0.1, tbv : 182.47175119221927 , tbh : 163.97226885193592\n"
     ]
    },
    {
     "name": "stderr",
     "output_type": "stream",
     "text": [
      "/home/julien/anaconda3/envs/bayes/lib/python3.7/site-packages/pymc3/sampling.py:1708: UserWarning: samples parameter is smaller than nchains times ndraws, some draws and/or chains may not be represented in the returned posterior predictive sample\n",
      "  \"samples parameter is smaller than nchains times ndraws, some draws \"\n"
     ]
    },
    {
     "name": "stdout",
     "output_type": "stream",
     "text": [
      "CV : 0.12307692307692308, tbv : 182.91368678430945 , tbh : 164.36261155134918\n",
      "CV : 0.14615384615384616, tbv : 181.3299395361228 , tbh : 162.92729767414716\n",
      "CV : 0.16923076923076924, tbv : 181.30436405626648 , tbh : 162.9038755077726\n",
      "CV : 0.19230769230769232, tbv : 182.19513999009382 , tbh : 163.71424932613067\n",
      "CV : 0.2153846153846154, tbv : 183.12155759725286 , tbh : 164.56506362162258\n",
      "CV : 0.23846153846153847, tbv : 182.6724608736354 , tbh : 164.16543521346662\n",
      "CV : 0.26153846153846155, tbv : 183.71316006124644 , tbh : 165.1326149384369\n",
      "CV : 0.2846153846153846, tbv : 183.41307544160267 , tbh : 164.85425358944968\n",
      "CV : 0.3076923076923077, tbv : 184.20139777583523 , tbh : 165.62808793215942\n",
      "CV : 0.3307692307692308, tbv : 183.60145430981578 , tbh : 165.06879957994093\n",
      "CV : 0.3538461538461538, tbv : 185.43607852148898 , tbh : 166.80721004204534\n",
      "CV : 0.3769230769230769, tbv : 184.77980570351784 , tbh : 166.1482364890053\n",
      "CV : 0.4, tbv : 184.22347707856574 , tbh : 165.65135528640496\n",
      "CV : 0.42307692307692313, tbv : 184.77723832060985 , tbh : 166.1782856073574\n",
      "CV : 0.4461538461538461, tbv : 185.9211083119085 , tbh : 167.30057090240456\n",
      "CV : 0.46923076923076923, tbv : 186.72495771766654 , tbh : 168.02861970954925\n",
      "CV : 0.49230769230769234, tbv : 186.0645191787503 , tbh : 167.4384869901072\n",
      "CV : 0.5153846153846154, tbv : 187.4516088187052 , tbh : 168.71497637269493\n",
      "CV : 0.5384615384615384, tbv : 186.46451487986118 , tbh : 167.81688917887277\n",
      "CV : 0.5615384615384615, tbv : 187.89235740223674 , tbh : 169.16028277505703\n",
      "CV : 0.5846153846153846, tbv : 187.30202513979896 , tbh : 168.58292879923533\n",
      "CV : 0.6076923076923076, tbv : 188.43443363992728 , tbh : 169.70431729598397\n",
      "CV : 0.6307692307692307, tbv : 189.7626289666181 , tbh : 170.9487021551407\n",
      "CV : 0.6538461538461539, tbv : 190.13653719498078 , tbh : 171.34313448328496\n",
      "CV : 0.676923076923077, tbv : 188.70495751631913 , tbh : 169.9794825351125\n",
      "CV : 0.7000000000000001, tbv : 189.36836267016886 , tbh : 170.5337637837997\n",
      "CV : 0.7230769230769231, tbv : 191.29474766800587 , tbh : 172.43531294353153\n",
      "CV : 0.7461538461538462, tbv : 191.42871746243478 , tbh : 172.56568421211256\n",
      "CV : 0.7692307692307693, tbv : 193.1479344512918 , tbh : 174.2383466538779\n",
      "CV : 0.7923076923076923, tbv : 192.84076016881428 , tbh : 173.97635335760245\n",
      "CV : 0.8153846153846154, tbv : 193.55731165389648 , tbh : 174.5860483420861\n",
      "CV : 0.8384615384615385, tbv : 193.22897492498257 , tbh : 174.2629175823637\n",
      "CV : 0.8615384615384616, tbv : 194.40554034096894 , tbh : 175.5132843964038\n",
      "CV : 0.8846153846153847, tbv : 194.18356699036318 , tbh : 175.26345997936303\n",
      "CV : 0.9076923076923077, tbv : 195.75877106114442 , tbh : 176.75383381660544\n",
      "CV : 0.9307692307692308, tbv : 196.57445838814223 , tbh : 177.57776084204355\n",
      "CV : 0.9538461538461539, tbv : 197.53863210021518 , tbh : 178.49960408798984\n",
      "CV : 0.9769230769230769, tbv : 198.25855791008456 , tbh : 179.20207031945435\n",
      "CV : 1.0, tbv : 195.53860522476114 , tbh : 176.60983948306088\n"
     ]
    }
   ],
   "source": [
    "#GP simulation for CB-42 cm depth\n",
    "Tb_cv_cb = simu_GP(0.42, 261, 257)\n",
    "file_tb_cv = open('results_tb_cv_sd42_CB.obj', 'wb')\n",
    "pickle.dump(Tb_cv_cb, file_tb_cv)"
   ]
  },
  {
   "cell_type": "code",
   "execution_count": 16,
   "metadata": {},
   "outputs": [
    {
     "name": "stdout",
     "output_type": "stream",
     "text": [
      "CV : 0.1, tbv : 191.7002813238821 , tbh : 172.76428227161384\n",
      "CV : 0.12307692307692308, tbv : 189.9869002768815 , tbh : 171.15891221411871\n",
      "CV : 0.14615384615384616, tbv : 190.9164257037989 , tbh : 172.04399857924722\n",
      "CV : 0.16923076923076924, tbv : 190.96619816082818 , tbh : 172.07121109152504\n",
      "CV : 0.19230769230769232, tbv : 191.87899402836098 , tbh : 172.9605411565767\n",
      "CV : 0.2153846153846154, tbv : 191.65408557144818 , tbh : 172.7641750134616\n",
      "CV : 0.23846153846153847, tbv : 193.67214985985916 , tbh : 174.6434294983601\n",
      "CV : 0.26153846153846155, tbv : 190.58628560492343 , tbh : 171.74977160266323\n",
      "CV : 0.2846153846153846, tbv : 192.71354724942483 , tbh : 173.76419670889166\n",
      "CV : 0.3076923076923077, tbv : 192.08664705307507 , tbh : 173.15908366119936\n",
      "CV : 0.3307692307692308, tbv : 192.83623103158482 , tbh : 173.91142885921275\n",
      "CV : 0.3538461538461538, tbv : 193.82433705477294 , tbh : 174.85958773204456\n",
      "CV : 0.3769230769230769, tbv : 193.2161921607917 , tbh : 174.26094662282256\n",
      "CV : 0.4, tbv : 192.26364851157996 , tbh : 173.3740919968571\n",
      "CV : 0.42307692307692313, tbv : 192.26053953034906 , tbh : 173.3601367910057\n",
      "CV : 0.4461538461538461, tbv : 194.2267472893209 , tbh : 175.2114332877899\n",
      "CV : 0.46923076923076923, tbv : 194.87317808866146 , tbh : 175.89628369740484\n",
      "CV : 0.49230769230769234, tbv : 194.70271097934278 , tbh : 175.6834139152216\n",
      "CV : 0.5153846153846154, tbv : 196.50937406171337 , tbh : 177.46072336758237\n",
      "CV : 0.5384615384615384, tbv : 195.69581939530622 , tbh : 176.7171399102592\n",
      "CV : 0.5615384615384615, tbv : 195.90129015210505 , tbh : 176.89002002033922\n",
      "CV : 0.5846153846153846, tbv : 196.91319108786664 , tbh : 177.8552491652091\n",
      "CV : 0.6076923076923076, tbv : 197.5953712587395 , tbh : 178.5198820598807\n",
      "CV : 0.6307692307692307, tbv : 198.07418068182704 , tbh : 178.96314497503005\n",
      "CV : 0.6538461538461539, tbv : 197.93190028645296 , tbh : 178.8729647262626\n",
      "CV : 0.676923076923077, tbv : 198.73209406569498 , tbh : 179.57966606908695\n",
      "CV : 0.7000000000000001, tbv : 199.52245758143334 , tbh : 180.3598214753817\n",
      "CV : 0.7230769230769231, tbv : 199.46211746330326 , tbh : 180.33529945789365\n",
      "CV : 0.7461538461538462, tbv : 199.89782219805403 , tbh : 180.72346780246204\n",
      "CV : 0.7692307692307693, tbv : 199.61114741371753 , tbh : 180.50422583860578\n",
      "CV : 0.7923076923076923, tbv : 197.54626894400974 , tbh : 178.5768641884118\n",
      "CV : 0.8153846153846154, tbv : 200.35421359550537 , tbh : 181.22655682658095\n",
      "CV : 0.8384615384615385, tbv : 200.96473248523995 , tbh : 181.81469203261128\n",
      "CV : 0.8615384615384616, tbv : 200.73036269530039 , tbh : 181.64715499576914\n",
      "CV : 0.8846153846153847, tbv : 200.18374825794595 , tbh : 181.1172121815197\n",
      "CV : 0.9076923076923077, tbv : 201.11598634795118 , tbh : 182.00403640446416\n",
      "CV : 0.9307692307692308, tbv : 201.62044291960547 , tbh : 182.5071263829748\n",
      "CV : 0.9538461538461539, tbv : 201.3326870504652 , tbh : 182.27981670276498\n",
      "CV : 0.9769230769230769, tbv : 202.00262729233896 , tbh : 182.91052414312907\n",
      "CV : 1.0, tbv : 205.14544156121755 , tbh : 185.95399270226469\n"
     ]
    }
   ],
   "source": [
    "#GP simulation for CB-34-28-32 cm depth\n",
    "Tb_cv_cb = simu_GP(0.32, 261, 257)\n",
    "file_tb_cv = open('results_tb_cv_sd32_CB.obj', 'wb')\n",
    "pickle.dump(Tb_cv_cb, file_tb_cv)"
   ]
  },
  {
   "cell_type": "markdown",
   "metadata": {},
   "source": [
    "## TVC"
   ]
  },
  {
   "cell_type": "code",
   "execution_count": 17,
   "metadata": {},
   "outputs": [
    {
     "name": "stdout",
     "output_type": "stream",
     "text": [
      " 37 Mean depth TbV : 189.27815650368944, TbH : 170.0762860205117\n",
      " 37 Mean depth TbV : 190.69459040855952, TbH : 171.44436258332786\n"
     ]
    }
   ],
   "source": [
    "#Tb for mean depth for tvc\n",
    "#temperature and mean depth from table 1 and table 2 \n",
    "#mean depth = 0.42, temp 260, 263\n",
    "TBV_tvc_19, TBH_tvc_19 = simu_mean(0.42, 260, 263)\n",
    "# mean depth = 0.39, temp 260, 263\n",
    "TBV_tvc_18, TBH_tvc_18 = simu_mean(0.39, 260, 263)"
   ]
  },
  {
   "cell_type": "code",
   "execution_count": 18,
   "metadata": {},
   "outputs": [
    {
     "name": "stdout",
     "output_type": "stream",
     "text": [
      "CV : 0.1, tbv : 187.05826828153278 , tbh : 168.19286842404358\n",
      "CV : 0.12307692307692308, tbv : 185.27972399862372 , tbh : 166.54525455844228\n",
      "CV : 0.14615384615384616, tbv : 186.69820324414587 , tbh : 167.88673642185535\n",
      "CV : 0.16923076923076924, tbv : 187.23480584987956 , tbh : 168.36049675866147\n",
      "CV : 0.19230769230769232, tbv : 185.89315175632595 , tbh : 167.0864363792953\n",
      "CV : 0.2153846153846154, tbv : 186.18514155730114 , tbh : 167.40891552752322\n",
      "CV : 0.23846153846153847, tbv : 187.4398667576725 , tbh : 168.5527471537949\n",
      "CV : 0.26153846153846155, tbv : 186.12108438728083 , tbh : 167.34551983434383\n",
      "CV : 0.2846153846153846, tbv : 188.7900920407131 , tbh : 169.8265033856568\n",
      "CV : 0.3076923076923077, tbv : 187.74440852564084 , tbh : 168.895789871999\n",
      "CV : 0.3307692307692308, tbv : 186.97020506126745 , tbh : 168.17232189079027\n",
      "CV : 0.3538461538461538, tbv : 188.11501340840712 , tbh : 169.23350587027375\n",
      "CV : 0.3769230769230769, tbv : 188.6198293484882 , tbh : 169.7115243771039\n",
      "CV : 0.4, tbv : 189.8432476999357 , tbh : 170.85287304831002\n",
      "CV : 0.42307692307692313, tbv : 190.97303795105185 , tbh : 171.93628468889312\n",
      "CV : 0.4461538461538461, tbv : 188.6412752012477 , tbh : 169.72463497007786\n",
      "CV : 0.46923076923076923, tbv : 190.81453092278605 , tbh : 171.77176166438994\n",
      "CV : 0.49230769230769234, tbv : 188.9999332889287 , tbh : 170.0588812817047\n",
      "CV : 0.5153846153846154, tbv : 191.7564635696265 , tbh : 172.6973508747156\n",
      "CV : 0.5384615384615384, tbv : 192.04795738475926 , tbh : 173.0348058937245\n",
      "CV : 0.5615384615384615, tbv : 190.34561856316355 , tbh : 171.3979073070577\n",
      "CV : 0.5846153846153846, tbv : 192.66917031444027 , tbh : 173.62287500983064\n",
      "CV : 0.6076923076923076, tbv : 192.76499922006425 , tbh : 173.69633670396672\n",
      "CV : 0.6307692307692307, tbv : 194.03635547449565 , tbh : 174.91882186757726\n",
      "CV : 0.6538461538461539, tbv : 194.21644276648527 , tbh : 175.07922516608883\n",
      "CV : 0.676923076923077, tbv : 196.62839566791092 , tbh : 177.3753444810908\n",
      "CV : 0.7000000000000001, tbv : 194.64343169228434 , tbh : 175.45779845133495\n",
      "CV : 0.7230769230769231, tbv : 196.3277387067161 , tbh : 177.10214107780743\n",
      "CV : 0.7461538461538462, tbv : 197.0756506757659 , tbh : 177.8327514176198\n",
      "CV : 0.7692307692307693, tbv : 196.1925638805336 , tbh : 177.0357898862898\n",
      "CV : 0.7923076923076923, tbv : 197.21285347761975 , tbh : 177.94020991839386\n",
      "CV : 0.8153846153846154, tbv : 197.101121976582 , tbh : 177.85285869097748\n",
      "CV : 0.8384615384615385, tbv : 197.52133567869268 , tbh : 178.25109771838677\n",
      "CV : 0.8615384615384616, tbv : 199.07041462583004 , tbh : 179.7541246096877\n",
      "CV : 0.8846153846153847, tbv : 200.89983967248276 , tbh : 181.6048949006768\n",
      "CV : 0.9076923076923077, tbv : 199.1074052537278 , tbh : 179.843036911812\n",
      "CV : 0.9307692307692308, tbv : 200.33702978338061 , tbh : 181.02516363261972\n",
      "CV : 0.9538461538461539, tbv : 198.73529906555697 , tbh : 179.43584475502885\n",
      "CV : 0.9769230769230769, tbv : 200.92276688835096 , tbh : 181.6193404899754\n",
      "CV : 1.0, tbv : 198.17019237326932 , tbh : 178.92176055861015\n"
     ]
    }
   ],
   "source": [
    "Tb_cv_tvc = simu_GP(0.41, 260, 263)\n",
    "file_tb_cv_37 = open('results_tb_cv_sd41_TVC.obj', 'wb')\n",
    "pickle.dump(Tb_cv_tvc, file_tb_cv_37)"
   ]
  },
  {
   "cell_type": "markdown",
   "metadata": {},
   "source": [
    "### Put all simu mean in dict"
   ]
  },
  {
   "cell_type": "code",
   "execution_count": 19,
   "metadata": {},
   "outputs": [],
   "source": [
    "dict_tbh = {'cb_19' : TBH_cb_19, 'cb_18' : TBH_cb_18, 'cb_17' : TBH_cb_17, 'cb_16' : TBH_cb_16,\n",
    "            'cb_15' : TBH_cb_15, 'tvc_19' : TBH_tvc_19, 'tvc_18' : TBH_tvc_18}\n",
    "\n",
    "dict_tbv = {'cb_19' : TBV_cb_19, 'cb_18' : TBV_cb_18, 'cb_17' : TBV_cb_17, 'cb_16' : TBV_cb_16,\n",
    "            'cb_15' : TBV_cb_15, 'tvc_19' : TBV_tvc_19, 'tvc_18' : TBV_tvc_18}\n",
    "\n",
    "fileh = open(\"Tbh_simu_mean.obj\",\"wb\")\n",
    "pickle.dump(dict_tbh,fileh)\n",
    "\n",
    "fileV = open(\"Tbv_simu_mean.obj\",\"wb\")\n",
    "pickle.dump(dict_tbv,fileV)"
   ]
  },
  {
   "cell_type": "markdown",
   "metadata": {},
   "source": [
    "### "
   ]
  }
 ],
 "metadata": {
  "kernelspec": {
   "display_name": "Python [conda env:bayes]",
   "language": "python",
   "name": "conda-env-bayes-py"
  },
  "language_info": {
   "codemirror_mode": {
    "name": "ipython",
    "version": 3
   },
   "file_extension": ".py",
   "mimetype": "text/x-python",
   "name": "python",
   "nbconvert_exporter": "python",
   "pygments_lexer": "ipython3",
   "version": "3.7.6"
  }
 },
 "nbformat": 4,
 "nbformat_minor": 4
}
